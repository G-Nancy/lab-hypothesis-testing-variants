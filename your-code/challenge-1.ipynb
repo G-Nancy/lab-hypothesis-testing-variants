{
 "cells": [
  {
   "cell_type": "markdown",
   "metadata": {},
   "source": [
    "# Challenge 1 - T-test\n",
    "\n",
    "In statistics, t-test is used to test if two data samples have a significant difference between their means. There are two types of t-test:\n",
    "\n",
    "* **Student's t-test** (a.k.a. independent or uncorrelated t-test). This type of t-test is to compare the samples of **two independent populations** (e.g. test scores of students in two different classes). `scipy` provides the [`ttest_ind`](https://docs.scipy.org/doc/scipy-0.15.1/reference/generated/scipy.stats.ttest_ind.html) method to conduct student's t-test.\n",
    "\n",
    "* **Paired t-test** (a.k.a. dependent or correlated t-test). This type of t-test is to compare the samples of **the same population** (e.g. scores of different tests of students in the same class). `scipy` provides the [`ttest_re`](https://docs.scipy.org/doc/scipy-0.15.1/reference/generated/scipy.stats.ttest_rel.html) method to conduct paired t-test.\n",
    "\n",
    "Both types of t-tests return a number which is called the **p-value**. If p-value is below 0.05, we can confidently declare the null-hypothesis is rejected and the difference is significant. If p-value is between 0.05 and 0.1, we may also declare the null-hypothesis is rejected but we are not highly confident. If p-value is above 0.1 we do not reject the null-hypothesis.\n",
    "\n",
    "Read more about the t-test in [this article](http://b.link/test50) and [this Quora](http://b.link/unpaired97). Make sure you understand when to use which type of t-test. "
   ]
  },
  {
   "cell_type": "code",
   "execution_count": 21,
   "metadata": {},
   "outputs": [],
   "source": [
    "# Import libraries\n",
    "import pandas as pd\n",
    "import scipy.stats as st"
   ]
  },
  {
   "cell_type": "markdown",
   "metadata": {},
   "source": [
    "#### Import dataset\n",
    "\n",
    "In this challenge we will work on the Pokemon dataset. The goal is to test whether different groups of pokemon (e.g. Legendary vs Normal, Generation 1 vs 2, single-type vs dual-type) have different stats (e.g. HP, Attack, Defense, etc.)."
   ]
  },
  {
   "cell_type": "code",
   "execution_count": 31,
   "metadata": {},
   "outputs": [
    {
     "name": "stdout",
     "output_type": "stream",
     "text": [
      "       #        Name   Type 1  Type 2  Total   HP  Attack  Defense  Sp. Atk  \\\n",
      "741  673      Gogoat    Grass     NaN    531  123     100       62       97   \n",
      "144  133       Eevee   Normal     NaN    325   55      55       50       45   \n",
      "595  535     Tympole    Water     NaN    294   50      50       40       50   \n",
      "398  363      Spheal      Ice   Water    290   70      40       50       55   \n",
      "70    65    Alakazam  Psychic     NaN    500   55      50       45      135   \n",
      "276  255     Torchic     Fire     NaN    310   45      60       40       70   \n",
      "348  319    Sharpedo    Water    Dark    460   70     120       40       95   \n",
      "280  258      Mudkip    Water     NaN    310   50      70       50       50   \n",
      "45    40  Wigglytuff   Normal   Fairy    435  140      70       45       85   \n",
      "472  425    Drifloon    Ghost  Flying    348   90      50       34       60   \n",
      "\n",
      "     Sp. Def  Speed  Generation  Legendary  \n",
      "741       81     68           6      False  \n",
      "144       65     55           1      False  \n",
      "595       40     64           5      False  \n",
      "398       50     25           3      False  \n",
      "70        95    120           1      False  \n",
      "276       50     45           3      False  \n",
      "348       40     95           3      False  \n",
      "280       50     40           3      False  \n",
      "45        50     45           1      False  \n",
      "472       44     70           4      False  \n"
     ]
    },
    {
     "data": {
      "text/plain": [
       "(800, 13)"
      ]
     },
     "execution_count": 31,
     "metadata": {},
     "output_type": "execute_result"
    }
   ],
   "source": [
    "# Your code here:\n",
    "pokemon = pd.read_csv('Pokemon.csv')\n",
    "print(pokemon.sample(10))\n",
    "pokemon.nunique()\n",
    "pokemon.shape"
   ]
  },
  {
   "cell_type": "code",
   "execution_count": 30,
   "metadata": {},
   "outputs": [
    {
     "name": "stdout",
     "output_type": "stream",
     "text": [
      "166 106 65 735 386 414\n"
     ]
    }
   ],
   "source": [
    "pokemon_gen1 = pokemon[pokemon['Generation']==1]\n",
    "pokemon_gen2 = pokemon[pokemon['Generation']==2]\n",
    "pokemon_lgnd = pokemon[pokemon['Legendary']==True]\n",
    "pokemon_norm = pokemon[pokemon['Legendary']==False]\n",
    "pokemon_sngl = pokemon[pokemon['Type 2'].isna()]\n",
    "pokemon_dual = pokemon[pokemon['Type 2'].notna()]\n",
    "print(len(pokemon_gen1),len(pokemon_gen2), len(pokemon_lgnd),len(pokemon_norm), len(pokemon_sngl),len(pokemon_dual))"
   ]
  },
  {
   "cell_type": "markdown",
   "metadata": {},
   "source": [
    "#### First we want to define a function with which we can test the means of a feature set of two samples. \n",
    "\n",
    "In the next cell you'll see the annotations of the Python function that explains what this function does and its arguments and returned value. This type of annotation is called **docstring** which is a convention used among Python developers. The docstring convention allows developers to write consistent tech documentations for their codes so that others can read. It also allows some websites to automatically parse the docstrings and display user-friendly documentations.\n",
    "\n",
    "Follow the specifications of the docstring and complete the function."
   ]
  },
  {
   "cell_type": "code",
   "execution_count": null,
   "metadata": {},
   "outputs": [
    {
     "name": "stdout",
     "output_type": "stream",
     "text": [
      "-1.4879963792658193 0.13791881412813622 \n",
      " TtestResult(statistic=np.float64(-1.4879963792658193), pvalue=np.float64(0.13791881412813622), df=np.float64(270.0)) \n",
      " 65.81927710843374 71.20754716981132\n"
     ]
    }
   ],
   "source": [
    "# Student’s t-test :  independent samples t-test (ttest_ind)\n",
    "# compare the **means of two different groups. The groups should not be related\n",
    "# if p<0.05 means are significantly different.\n",
    "\n",
    "\n",
    "t_stat, p_val = st.ttest_ind(pokemon_gen1['HP'], pokemon_gen2['HP'])\n",
    "print(t_stat, p_val, '\\n', st.ttest_ind(pokemon_gen1['HP'], pokemon_gen2['HP']), '\\n', pokemon_gen1['HP'].mean(), pokemon_gen2['HP'].mean())"
   ]
  },
  {
   "cell_type": "code",
   "execution_count": 32,
   "metadata": {},
   "outputs": [],
   "source": [
    "def t_test_features(s1, s2, features=['HP', 'Attack', 'Defense', 'Sp. Atk', 'Sp. Def', 'Speed', 'Total']):\n",
    "    \"\"\"Test means of a feature set of two samples\n",
    "    \n",
    "    Args:\n",
    "        s1 (dataframe): sample 1\n",
    "        s2 (dataframe): sample 2\n",
    "        features (list): an array of features to test\n",
    "    \n",
    "    Returns:\n",
    "        dict: a dictionary of t-test scores for each feature where the feature name is the key and the p-value is the value\n",
    "    \"\"\"\n",
    "    results = {}\n",
    "    for f in features:\n",
    "        t_stat, p_val = st.ttest_ind(s1[f], s2[f])\n",
    "        results[f] = p_val\n",
    "\n",
    "    # Your code here\n",
    "    \n",
    "    return results"
   ]
  },
  {
   "cell_type": "markdown",
   "metadata": {},
   "source": [
    "#### Using the `t_test_features` function, conduct t-test for Lengendary vs non-Legendary pokemons.\n",
    "\n",
    "*Hint: your output should look like below:*\n",
    "\n",
    "```\n",
    "{'HP': 1.0026911708035284e-13,\n",
    " 'Attack': 2.520372449236646e-16,\n",
    " 'Defense': 4.8269984949193316e-11,\n",
    " 'Sp. Atk': 1.5514614112239812e-21,\n",
    " 'Sp. Def': 2.2949327864052826e-15,\n",
    " 'Speed': 1.049016311882451e-18,\n",
    " 'Total': 9.357954335957446e-47}\n",
    " ```"
   ]
  },
  {
   "cell_type": "code",
   "execution_count": 35,
   "metadata": {},
   "outputs": [
    {
     "data": {
      "text/plain": [
       "{'HP': np.float64(3.3306476848461913e-15),\n",
       " 'Attack': np.float64(7.827253003205333e-24),\n",
       " 'Defense': np.float64(1.5842226094427255e-12),\n",
       " 'Sp. Atk': np.float64(6.314915770427265e-41),\n",
       " 'Sp. Def': np.float64(1.8439809580409597e-26),\n",
       " 'Speed': np.float64(2.3540754436898437e-21),\n",
       " 'Total': np.float64(3.0952457469652825e-52)}"
      ]
     },
     "execution_count": 35,
     "metadata": {},
     "output_type": "execute_result"
    }
   ],
   "source": [
    "# Your code here\n",
    "t_test_features(pokemon_lgnd, pokemon_norm)"
   ]
  },
  {
   "cell_type": "markdown",
   "metadata": {},
   "source": [
    "#### From the test results above, what conclusion can you make? Do Legendary and non-Legendary pokemons have significantly different stats on each feature?"
   ]
  },
  {
   "cell_type": "code",
   "execution_count": null,
   "metadata": {},
   "outputs": [],
   "source": [
    "# Your comment here\n",
    "\n",
    "# p-value <0.05 i.e. there is significant difference between legendary and normal pokemons"
   ]
  },
  {
   "cell_type": "markdown",
   "metadata": {},
   "source": [
    "#### Next, conduct t-test for Generation 1 and Generation 2 pokemons."
   ]
  },
  {
   "cell_type": "code",
   "execution_count": 36,
   "metadata": {},
   "outputs": [
    {
     "data": {
      "text/plain": [
       "{'HP': np.float64(0.13791881412813622),\n",
       " 'Attack': np.float64(0.24050968418101448),\n",
       " 'Defense': np.float64(0.5407630349194362),\n",
       " 'Sp. Atk': np.float64(0.14119788176331508),\n",
       " 'Sp. Def': np.float64(0.1678122623160639),\n",
       " 'Speed': np.float64(0.0028356954812578704),\n",
       " 'Total': np.float64(0.5599140649014442)}"
      ]
     },
     "execution_count": 36,
     "metadata": {},
     "output_type": "execute_result"
    }
   ],
   "source": [
    "# Your code here\n",
    "t_test_features(pokemon_gen1, pokemon_gen2)"
   ]
  },
  {
   "cell_type": "markdown",
   "metadata": {},
   "source": [
    "#### What conclusions can you make?"
   ]
  },
  {
   "cell_type": "code",
   "execution_count": null,
   "metadata": {},
   "outputs": [],
   "source": [
    "# Your comment here\n",
    "\n",
    "# except for Speed feature, p-value > 0.05 i.e. gen1 and gen2 pokemons are similar but speed has signicant difference"
   ]
  },
  {
   "cell_type": "markdown",
   "metadata": {},
   "source": [
    "#### Compare pokemons who have single type vs those having two types."
   ]
  },
  {
   "cell_type": "code",
   "execution_count": 38,
   "metadata": {},
   "outputs": [
    {
     "data": {
      "text/plain": [
       "{'HP': np.float64(0.11060643144431842),\n",
       " 'Attack': np.float64(0.00015741395666164396),\n",
       " 'Defense': np.float64(3.250594205757004e-08),\n",
       " 'Sp. Atk': np.float64(0.0001454917404035147),\n",
       " 'Sp. Def': np.float64(0.00010893304795534397),\n",
       " 'Speed': np.float64(0.02405141079403746),\n",
       " 'Total': np.float64(1.1749035008828753e-07)}"
      ]
     },
     "execution_count": 38,
     "metadata": {},
     "output_type": "execute_result"
    }
   ],
   "source": [
    "# Your code here\n",
    "t_test_features(pokemon_sngl, pokemon_dual)"
   ]
  },
  {
   "cell_type": "markdown",
   "metadata": {},
   "source": [
    "#### What conclusions can you make?"
   ]
  },
  {
   "cell_type": "code",
   "execution_count": null,
   "metadata": {},
   "outputs": [],
   "source": [
    "# Your comment here\n",
    "\n",
    "# p-value <0.05 except for 'HP' feature i.e. single type is significantly different than dual type"
   ]
  },
  {
   "cell_type": "markdown",
   "metadata": {},
   "source": [
    "#### Now, we want to compare whether there are significant differences of `Attack` vs `Defense`  and  `Sp. Atk` vs `Sp. Def` of all pokemons. Please write your code below.\n",
    "\n",
    "*Hint: are you comparing different populations or the same population?*"
   ]
  },
  {
   "cell_type": "code",
   "execution_count": null,
   "metadata": {},
   "outputs": [
    {
     "data": {
      "text/plain": [
       "TtestResult(statistic=np.float64(4.325566393330478), pvalue=np.float64(1.7140303479358558e-05), df=np.int64(799))"
      ]
     },
     "execution_count": 39,
     "metadata": {},
     "output_type": "execute_result"
    }
   ],
   "source": [
    "# Paired t-test : two related groups — like before and after (ttest_rel) within same population\n",
    "# Test scores before and after a experiment\n",
    "# if p < 0.05, the change is statistically significant.\n",
    "\n",
    "\n",
    "st.ttest_rel(pokemon['Attack'], pokemon['Defense'])"
   ]
  },
  {
   "cell_type": "code",
   "execution_count": 40,
   "metadata": {},
   "outputs": [
    {
     "name": "stdout",
     "output_type": "stream",
     "text": [
      "attack vs. defence is 1.7140303479358558e-05, and sp. atk and sp. def is 0.3933685997548122\n"
     ]
    }
   ],
   "source": [
    "# Your code here\n",
    "t_stat_n, p_val_n = st.ttest_rel(pokemon['Attack'], pokemon['Defense'])\n",
    "t_stat_s, p_val_s = st.ttest_rel(pokemon['Sp. Atk'], pokemon['Sp. Def'])\n",
    "\n",
    "print(f\"attack vs. defence is {p_val_n}, and sp. atk and sp. def is {p_val_s}\")"
   ]
  },
  {
   "cell_type": "markdown",
   "metadata": {},
   "source": [
    "#### What conclusions can you make?"
   ]
  },
  {
   "cell_type": "code",
   "execution_count": null,
   "metadata": {},
   "outputs": [],
   "source": [
    "# Your comment here\n",
    "\n",
    "# attack vs. defence has p < 0.05 i.e. both are significanlty independent with significant change\n",
    "\n",
    "# sp. atk and sp. def has p > 0.5 i.e both are dependent and change is insignificant"
   ]
  }
 ],
 "metadata": {
  "kernelspec": {
   "display_name": "3.9.2",
   "language": "python",
   "name": "python3"
  },
  "language_info": {
   "codemirror_mode": {
    "name": "ipython",
    "version": 3
   },
   "file_extension": ".py",
   "mimetype": "text/x-python",
   "name": "python",
   "nbconvert_exporter": "python",
   "pygments_lexer": "ipython3",
   "version": "3.9.2"
  }
 },
 "nbformat": 4,
 "nbformat_minor": 2
}
